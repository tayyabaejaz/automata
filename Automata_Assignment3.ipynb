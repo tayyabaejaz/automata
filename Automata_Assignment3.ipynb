{
  "nbformat": 4,
  "nbformat_minor": 0,
  "metadata": {
    "colab": {
      "provenance": [],
      "authorship_tag": "ABX9TyPy3hm+luhRETS0PamTQkU4",
      "include_colab_link": true
    },
    "kernelspec": {
      "name": "python3",
      "display_name": "Python 3"
    },
    "language_info": {
      "name": "python"
    }
  },
  "cells": [
    {
      "cell_type": "markdown",
      "metadata": {
        "id": "view-in-github",
        "colab_type": "text"
      },
      "source": [
        "<a href=\"https://colab.research.google.com/github/tayyabaejaz/automata/blob/main/Automata_Assignment3.ipynb\" target=\"_parent\"><img src=\"https://colab.research.google.com/assets/colab-badge.svg\" alt=\"Open In Colab\"/></a>"
      ]
    },
    {
      "cell_type": "markdown",
      "source": [
        "**ASSIGNMENT 2**\n",
        "**GRAMMAR GENERATION FROM AN FA**\n",
        "\n",
        "\n",
        "*   Tayyaba Ejaz\n",
        "*   FA20_BSAI_018\n",
        "\n"
      ],
      "metadata": {
        "id": "LcDjosUcxnzH"
      }
    },
    {
      "cell_type": "markdown",
      "source": [
        "functions for states"
      ],
      "metadata": {
        "id": "CKWxHGC4x3LX"
      }
    },
    {
      "cell_type": "code",
      "source": [
        "class linear_grammar(object):\n",
        "      #initialize all variable when calling the class DFA\n",
        "    def _init_(self, non_terminal,terminal ,language, start_non_terminal,final_non_terminal):\n",
        "        self.non_terminal = non_terminal;\n",
        "        self.terminal = terminal;\n",
        "        self.language = language;\n",
        "        self.start_non_terminal = start_non_terminal;\n",
        "        self.final_non_terminal = final_non_terminal;\n",
        "        return;\n",
        "import pandas as pd\n",
        "\n",
        "#for states\n",
        "#initial state\n",
        "def state_S(str):\n",
        "  if (str == 'a'):\n",
        "    state = 'A'\n",
        "    return state\n",
        "  else:\n",
        "    return False\n",
        "  \n",
        "\n",
        "def state_A(str):\n",
        "  if (str == 'a'):\n",
        "    state = 'A'\n",
        "    return state\n",
        "  elif (str == 'b'):  \n",
        "    state = 'empty'\n",
        "    return state\n",
        "  else:\n",
        "    return False\n",
        "  \n",
        "def state_empty(str):\n",
        "  if (str == 'b'):  \n",
        "    state = 'B'\n",
        "    return state\n",
        "  else:\n",
        "    return False\n",
        "\n",
        "def state_B(str):\n",
        "  if (str == 'b'):  \n",
        "    state = 'C'\n",
        "    return state\n",
        "  else:\n",
        "    return False    \n",
        "\n",
        "def state_C(str):\n",
        "  if (str == 'e'):\n",
        "    state = final_non_terminal\n",
        "    return True\n",
        "  else:\n",
        "    return False  \n",
        "\n",
        "        \n",
        "#for string acceptance\n",
        "def string_acceptance(string):\n",
        "  l = len(string)   \n",
        "\n",
        "  state = 'S' #start state\n",
        "  for i in range(l):   \n",
        "    if (state == 'S'):   \n",
        "          state=state_A(string[i])\n",
        "      \n",
        "    elif (state == 'A'):   \n",
        "           state=state_empty(string[i])\n",
        "    \n",
        "    elif (state == 'empty'):   \n",
        "           state=state_B(string[i])\n",
        "    \n",
        "    elif (state == 'B'):   \n",
        "           state=state_C(string[i])\n",
        "    elif (state == 'C'):\n",
        "           state=state_S(string[i])\n",
        "           return True\n",
        "    else:\n",
        "      return False\n",
        "  if (state == \"S\"):\n",
        "    print(\"string reached final state\")\n",
        "    return True\n",
        "  else:\n",
        "    print(\"string did not reach final state\")\n",
        "    return False\n",
        "lgr1 =linear_grammar(non_terminal=['S','A','E','B','C'],terminal=['a','b','e'],start_non_terminal='S',final_non_terminal=['S'],language={('S','a'):'A',('A','a'):'A',('A','b'):'E',('E','b'):'B',('B','b'):'C',('C','e'):'S'}\n",
        ")\n",
        "if _name_ == \"_main_\" :   \n",
        "  string=input(\"enter a string :\")\n",
        "  print(string)\n",
        "if(string_acceptance(string)):\n",
        "      print(\"String Accepted\")\n",
        "else:\n",
        "      print(\"Invalid String\")"
      ],
      "metadata": {
        "id": "GrG6SfyaD7WU"
      },
      "execution_count": null,
      "outputs": []
    }
  ]
}