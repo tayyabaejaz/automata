{
  "nbformat": 4,
  "nbformat_minor": 0,
  "metadata": {
    "colab": {
      "provenance": [],
      "authorship_tag": "ABX9TyMWLJvetixz/1o8rrwMBYGJ",
      "include_colab_link": true
    },
    "kernelspec": {
      "name": "python3",
      "display_name": "Python 3"
    },
    "language_info": {
      "name": "python"
    }
  },
  "cells": [
    {
      "cell_type": "markdown",
      "metadata": {
        "id": "view-in-github",
        "colab_type": "text"
      },
      "source": [
        "<a href=\"https://colab.research.google.com/github/tayyabaejaz/automata/blob/main/Assignment1.ipynb\" target=\"_parent\"><img src=\"https://colab.research.google.com/assets/colab-badge.svg\" alt=\"Open In Colab\"/></a>"
      ]
    },
    {
      "cell_type": "code",
      "execution_count": 20,
      "metadata": {
        "colab": {
          "base_uri": "https://localhost:8080/"
        },
        "id": "PjzdW07bEEua",
        "outputId": "701a1935-64c9-44b8-a131-837cd18cb432"
      },
      "outputs": [
        {
          "output_type": "stream",
          "name": "stdout",
          "text": [
            "enter a string :abc\n",
            "abc\n",
            "Invalid alphabet in the string\n",
            "Invalid String\n"
          ]
        }
      ],
      "source": [
        "#for states\n",
        "#initial state\n",
        "def state1(str):\n",
        "  if (str == 'a'):  \n",
        "        dfa = 1\n",
        "        return dfa \n",
        "  elif (str == 'b'):  \n",
        "        dfa = 1\n",
        "        return dfa \n",
        "  else:  \n",
        "        print(\"Invalid alphabet in the string\")\n",
        "  \n",
        "\n",
        "def state2(str):\n",
        "  if (str == 'a'):  \n",
        "        dfa = 0\n",
        "        return dfa \n",
        "  elif (str == 'b'):  \n",
        "        dfa = 0\n",
        "        return dfa \n",
        "  else:  \n",
        "         print(\"Invalid alphabet in the string\")\n",
        "  \n",
        "\n",
        "\n",
        "\n",
        "#for string acceptance\n",
        "def string_acceptance(string):\n",
        "  l = len(string)   \n",
        "#dfa defines the state\n",
        "  dfa = 0 #start stae\n",
        "  for i in range(l):   \n",
        "    if (dfa == 0):   \n",
        "          dfa=state1(string[i])\n",
        "      \n",
        "    elif (dfa == 1):   \n",
        "           dfa=state2(string[i])\n",
        "    else:\n",
        "      return 0\n",
        "  if(dfa==0): #string acceptance\n",
        "    return 1\n",
        "    \n",
        "  else:\n",
        "    return 0\n",
        "    \n",
        "\n",
        "\n",
        "\n",
        "#main\n",
        "states=[0,1]\n",
        "initial_state=0\n",
        "final_state=0\n",
        "\n",
        "alphabet_set={\"a\",\"b\"}\n",
        "#string input\n",
        "string=input(\"enter a string :\")\n",
        "print(string)\n",
        "if(string_acceptance(string)):\n",
        "   print(\"String Accepted\")\n",
        "else:\n",
        "    print(\"Invalid String\")\n",
        "\n",
        "\n",
        "\n"
      ]
    }
  ]
}